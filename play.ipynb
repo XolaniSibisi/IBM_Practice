{
 "cells": [
  {
   "cell_type": "markdown",
   "metadata": {},
   "source": [
    "# **Task1: Create database using SQLITE**"
   ]
  },
  {
   "cell_type": "code",
   "execution_count": null,
   "metadata": {},
   "outputs": [],
   "source": [
    "#Installing required dependencies\n",
    "%pip install sqlite3\n",
    "%pip install pandas"
   ]
  },
  {
   "cell_type": "code",
   "execution_count": null,
   "metadata": {},
   "outputs": [],
   "source": [
    "# Import sqlite3\n",
    "import sqlite3\n",
    "import pandas as pd"
   ]
  },
  {
   "cell_type": "code",
   "execution_count": null,
   "metadata": {},
   "outputs": [],
   "source": [
    "# create the database by starting the connection with sqlite\n",
    "try:\n",
    "    conn=sqlite3.connect(\"Users.db\")\n",
    "    print(\"Database is successfully created...\")\n",
    "except Error:\n",
    "    print(\"Error in creating the database\")"
   ]
  },
  {
   "cell_type": "code",
   "execution_count": null,
   "metadata": {},
   "outputs": [],
   "source": [
    "# Create a cursor object\n",
    "cursor_obj = conn.cursor()"
   ]
  },
  {
   "cell_type": "markdown",
   "metadata": {},
   "source": [
    "# **Task2: Create a table in the database**"
   ]
  },
  {
   "cell_type": "code",
   "execution_count": null,
   "metadata": {},
   "outputs": [],
   "source": [
    "# Drop the table if already exists\n",
    "cursor_obj.execute('DROP TABLE IF EXISTS Users')"
   ]
  },
  {
   "cell_type": "code",
   "execution_count": null,
   "metadata": {},
   "outputs": [],
   "source": [
    "# Create a table in the database\n",
    "statement = ''' CREATE TABLE IF NOT EXISTS Users(ID INTEGER PRIMARY KEY, FNAME VARCHAR(20), LNAME VARCHAR(20), CITY VARCHAR(20), CCODE CHAR(2))'''\n",
    "cursor_obj.execute(statement)\n",
    "print(\"Table is Ready\")"
   ]
  },
  {
   "cell_type": "markdown",
   "metadata": {},
   "source": [
    "# **Task3: Insert data into the table**"
   ]
  },
  {
   "cell_type": "code",
   "execution_count": null,
   "metadata": {},
   "outputs": [],
   "source": [
    "# Inserting values into the table\n",
    "cursor_obj.execute(''' INSERT INTO Users VALUES (1, \"Rav\", \"Ahuja\", \"TORONTO\", \"CA\"),\n",
    "                   (2, \"Raul\", \"Chong\", \"Markham\", \"CA\"), (3, \"Hima\", \"Vasuderan\", \"Chicago\", \"US\")''')"
   ]
  },
  {
   "cell_type": "markdown",
   "metadata": {},
   "source": [
    "# **Task4: Query data in the table**"
   ]
  },
  {
   "cell_type": "code",
   "execution_count": null,
   "metadata": {},
   "outputs": [],
   "source": [
    "# read all the records from table using fetchall() method and store the result in output variable\n",
    "statement = 'SELECT * FROM Users'\n",
    "cursor_obj.execute(statement)\n",
    "\n",
    "print(\"All the data\")\n",
    "output = cursor_obj.fetchall()\n",
    "for rows in output:\n",
    "    print(rows)"
   ]
  },
  {
   "cell_type": "code",
   "execution_count": null,
   "metadata": {},
   "outputs": [],
   "source": [
    "# fetch only 2 rows from the table using fetchmany() method and store the result in few_rows variable\n",
    "statement = 'SELECT * FROM Users'\n",
    "cursor_obj.execute(statement)\n",
    "\n",
    "print(\"All the data\")\n",
    "few_rows = cursor_obj.fetchmany(2)\n",
    "for row in few_rows:\n",
    "    print(row)"
   ]
  },
  {
   "cell_type": "code",
   "execution_count": null,
   "metadata": {},
   "outputs": [],
   "source": [
    "#  Fetch only the FNAME from the table\n",
    "statement = 'SELECT FNAME FROM Users'\n",
    "cursor_obj.execute(statement)\n",
    "\n",
    "print(\"All the data\")\n",
    "output1 = cursor_obj.fetchall()\n",
    "for row in  output1:\n",
    "    print(row)"
   ]
  },
  {
   "cell_type": "code",
   "execution_count": null,
   "metadata": {},
   "outputs": [],
   "source": [
    "# Update RAV's CITY\n",
    "query_update = '''UPDATE Users SET CITY = \"MOOSETOWN\" WHERE FNAME = \"Rav\"'''\n",
    "cursor_obj.execute(query_update)\n",
    "\n",
    "statement = 'SELECT * FROM Users'\n",
    "cursor_obj.execute(statement)\n",
    "\n",
    "print(\"All the data\")\n",
    "output2 = cursor_obj.fetchmany(2)\n",
    "for row1 in output2:\n",
    "    print(row1)"
   ]
  },
  {
   "cell_type": "code",
   "execution_count": null,
   "metadata": {},
   "outputs": [],
   "source": [
    "# Delete the record with ID = 3\n",
    "query_delete = '''DELETE FROM Users WHERE ID = 3'''\n",
    "cursor_obj.execute(query_delete)\n",
    "\n",
    "statement = 'SELECT * FROM Users'\n",
    "cursor_obj.execute(statement)\n",
    "\n",
    "print(\"All the data\")\n",
    "output3 = cursor_obj.fetchall()\n",
    "for row2 in output3:\n",
    "    print(row2)"
   ]
  },
  {
   "cell_type": "markdown",
   "metadata": {},
   "source": [
    "# **Task5: Retrieve data into Pandas**"
   ]
  },
  {
   "cell_type": "code",
   "execution_count": null,
   "metadata": {},
   "outputs": [],
   "source": [
    "# Read the data from the table using pandas and store the result in df variable\n",
    "df = pd.read_sql_query('SELECT * FROM Users', conn)\n",
    "print(df)"
   ]
  },
  {
   "cell_type": "code",
   "execution_count": null,
   "metadata": {},
   "outputs": [],
   "source": [
    "# Print the shape of the dataframe\n",
    "df.shape"
   ]
  },
  {
   "cell_type": "markdown",
   "metadata": {},
   "source": [
    "# **Task6: Close the connection**"
   ]
  },
  {
   "cell_type": "code",
   "execution_count": null,
   "metadata": {},
   "outputs": [],
   "source": [
    "# Save the DB changes\n",
    "conn.commit()\n",
    "\n",
    "# Close the connection\n",
    "conn.close()"
   ]
  }
 ],
 "metadata": {
  "kernelspec": {
   "display_name": "Python 3",
   "language": "python",
   "name": "python3"
  },
  "language_info": {
   "codemirror_mode": {
    "name": "ipython",
    "version": 3
   },
   "file_extension": ".py",
   "mimetype": "text/x-python",
   "name": "python",
   "nbconvert_exporter": "python",
   "pygments_lexer": "ipython3",
   "version": "3.11.3"
  }
 },
 "nbformat": 4,
 "nbformat_minor": 2
}
